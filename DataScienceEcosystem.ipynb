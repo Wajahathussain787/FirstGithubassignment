{
 "cells": [
  {
   "cell_type": "markdown",
   "id": "89bea647-c50f-41f5-9caf-415a9559bfaf",
   "metadata": {},
   "source": [
    "# Data Science Tools and Ecosystem"
   ]
  },
  {
   "cell_type": "markdown",
   "id": "42ef3c1e-a7c4-41d5-b3ab-ee0745d06945",
   "metadata": {},
   "source": [
    "# In this notebook, Data Science Tools and Ecosystem are summarized.\n"
   ]
  },
  {
   "cell_type": "markdown",
   "id": "f8d0fe0e-1f4d-486f-b717-b5a876367e0a",
   "metadata": {},
   "source": [
    "## Some of the popular languages that Data Scientists use are:\n",
    "1. Pyhton\n",
    "2. R\n",
    "3. MySql"
   ]
  },
  {
   "cell_type": "markdown",
   "id": "250bfc6c-7bc2-42d2-b5cf-794d9ca9d8fb",
   "metadata": {},
   "source": [
    "## Some of the commonly used libraries used by Data Scientists include:\n",
    "1. Pandas\n",
    "2. pytorch\n",
    "3. Keras\n",
    "4. ggplot"
   ]
  },
  {
   "cell_type": "markdown",
   "id": "fce9a005-5687-40c3-b10b-c5a9f95684aa",
   "metadata": {},
   "source": [
    "| Data Science Tools |\n",
    "|--------------------|\n",
    "|Git Hub|\n",
    "|IBM watson Studio |\n",
    "|Appache |"
   ]
  },
  {
   "cell_type": "markdown",
   "id": "0f686e9f-5c22-4ad3-bd06-43cdc97ab856",
   "metadata": {},
   "source": [
    "### Below are a few examples of evaluating arithmetic expressions in Python"
   ]
  },
  {
   "cell_type": "code",
   "execution_count": 1,
   "id": "6953b1f0-8a0d-4f98-b735-4742956de177",
   "metadata": {
    "tags": []
   },
   "outputs": [
    {
     "data": {
      "text/plain": [
       "17"
      ]
     },
     "execution_count": 1,
     "metadata": {},
     "output_type": "execute_result"
    }
   ],
   "source": [
    "#This a simple arithmetic expression to mutiply then add integers\n",
    "(3*4)+5"
   ]
  },
  {
   "cell_type": "code",
   "execution_count": 2,
   "id": "492efe17-1ca4-483d-80b7-6114abcfff6e",
   "metadata": {
    "tags": []
   },
   "outputs": [
    {
     "data": {
      "text/plain": [
       "3.6666666666666665"
      ]
     },
     "execution_count": 2,
     "metadata": {},
     "output_type": "execute_result"
    }
   ],
   "source": [
    "220/60\n",
    "#This will convert 200 minutes to hours by diving by 60"
   ]
  },
  {
   "cell_type": "markdown",
   "id": "9f4d97e3-2c05-49b7-8fa7-4d8dbe94cf03",
   "metadata": {},
   "source": [
    "# List popular languages for Data Science\n",
    "- Python\n",
    "- R\n",
    "- MySql"
   ]
  },
  {
   "cell_type": "markdown",
   "id": "d6ab4424-9b4f-4d1c-9d72-0ec8cd125d21",
   "metadata": {
    "tags": []
   },
   "source": [
    "## Auhthor\n",
    "Syed Wajahat Hussain Shah"
   ]
  },
  {
   "cell_type": "code",
   "execution_count": null,
   "id": "fe3bfdf2-fb68-44a4-a526-8ba832d26216",
   "metadata": {},
   "outputs": [],
   "source": []
  }
 ],
 "metadata": {
  "kernelspec": {
   "display_name": "Python",
   "language": "python",
   "name": "conda-env-python-py"
  },
  "language_info": {
   "codemirror_mode": {
    "name": "ipython",
    "version": 3
   },
   "file_extension": ".py",
   "mimetype": "text/x-python",
   "name": "python",
   "nbconvert_exporter": "python",
   "pygments_lexer": "ipython3",
   "version": "3.7.12"
  }
 },
 "nbformat": 4,
 "nbformat_minor": 5
}
